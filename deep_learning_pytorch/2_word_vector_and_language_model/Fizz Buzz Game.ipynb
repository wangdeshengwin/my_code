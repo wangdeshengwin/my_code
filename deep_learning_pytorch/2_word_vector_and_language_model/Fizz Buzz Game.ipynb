{
 "cells": [
  {
   "cell_type": "code",
   "execution_count": 2,
   "id": "fb313c8d",
   "metadata": {},
   "outputs": [],
   "source": [
    "import torch\n",
    "import torch.nn as nn\n",
    "import numpy as np"
   ]
  },
  {
   "cell_type": "markdown",
   "id": "ea1cddfe",
   "metadata": {},
   "source": [
    "# Fizz Buzz\n",
    "- 3的倍数，Fizz\n",
    "- 5的倍数，Buzz\n",
    "- 15的倍数，fizzBuzz"
   ]
  },
  {
   "cell_type": "code",
   "execution_count": null,
   "id": "d442c19e",
   "metadata": {},
   "outputs": [],
   "source": []
  }
 ],
 "metadata": {
  "kernelspec": {
   "display_name": "Python 3 (ipykernel)",
   "language": "python",
   "name": "python3"
  },
  "language_info": {
   "codemirror_mode": {
    "name": "ipython",
    "version": 3
   },
   "file_extension": ".py",
   "mimetype": "text/x-python",
   "name": "python",
   "nbconvert_exporter": "python",
   "pygments_lexer": "ipython3",
   "version": "3.7.13"
  }
 },
 "nbformat": 4,
 "nbformat_minor": 5
}
